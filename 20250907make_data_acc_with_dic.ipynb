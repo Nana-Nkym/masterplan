{
 "cells": [
  {
   "cell_type": "code",
   "execution_count": null,
   "id": "f487feac",
   "metadata": {
    "vscode": {
     "languageId": "plaintext"
    }
   },
   "outputs": [],
   "source": [
    "#1"
   ]
  },
  {
   "cell_type": "code",
   "execution_count": null,
   "id": "7482e14d",
   "metadata": {
    "vscode": {
     "languageId": "plaintext"
    }
   },
   "outputs": [],
   "source": [
    "#CSV読み込み\n",
    "import os\n",
    "import pandas as pd\n",
    "from thefuzz import process  # fuzzy string matching\n",
    "\n",
    "# CSVが入っているディレクトリ\n",
    "directory = \"your_csv_directory\"\n",
    "csv_files = [f for f in os.listdir(directory) if f.endswith(\".csv\")]\n",
    "\n",
    "# CSVのすべての列名を集める\n",
    "all_columns = set()\n",
    "for file in csv_files:\n",
    "    file_path = os.path.join(directory, file)\n",
    "    df = pd.read_csv(file_path, nrows=0)  # データは読まずに列だけ取得\n",
    "    all_columns.update(df.columns.tolist())\n",
    "\n",
    "print(\"=== 集めた列名 ===\")\n",
    "print(all_columns)\n",
    "\n",
    "\n",
    "＃fuzzで似たような列名を集める\n",
    "rename_map = {}\n",
    "for col in all_columns:\n",
    "    best_match, score = process.extractOne(col, standard_columns)\n",
    "    if score >= 70:  # 類似度が70%以上ならマッチ\n",
    "        rename_map[col] = best_match\n",
    "    else:\n",
    "        rename_map[col] = col\n",
    "\n",
    "print(rename_map)\n"
   ]
  },
  {
   "cell_type": "code",
   "execution_count": null,
   "id": "e6a010aa",
   "metadata": {
    "vscode": {
     "languageId": "plaintext"
    }
   },
   "outputs": [],
   "source": [
    "\n",
    "# 辞書をDataFrameに変換\n",
    "df_map = pd.DataFrame(list(rename_map.items()), columns=[\"元の列名\", \"マッチした標準列名\"])\n",
    "\n",
    "# CSVに保存\n",
    "df_map.to_csv(\"column_mapping.csv\", index=False, encoding=\"utf-8-sig\")\n",
    "\n",
    "print(\"column_mapping.csv に保存しました！\")"
   ]
  },
  {
   "cell_type": "code",
   "execution_count": null,
   "id": "9d67a02c",
   "metadata": {
    "vscode": {
     "languageId": "plaintext"
    }
   },
   "outputs": [],
   "source": [
    "# 理想の標準列名を定義（自分で決める）\n",
    "standard_columns = [\"Name\", \"Age\", \"Email\"]\n",
    "# 各CSVを読み込み、列名を統一・順序もそろえる\n",
    "normalized_dfs = []\n",
    "for file in csv_files:\n",
    "    file_path = os.path.join(directory, file)\n",
    "    df = pd.read_csv(file_path)\n",
    "    df = df.rename(columns=lambda x: rename_map.get(x, x))\n",
    "    df = df.reindex(columns=standard_columns)  # 順序を統一\n",
    "    normalized_dfs.append(df)\n",
    "\n",
    "# すべて結合\n",
    "merged_df = pd.concat(normalized_dfs, ignore_index=True)\n",
    "\n",
    "print(\"=== 統一後のデータ ===\")\n",
    "print(merged_df.head())\n"
   ]
  },
  {
   "cell_type": "code",
   "execution_count": null,
   "id": "000d56bd",
   "metadata": {
    "vscode": {
     "languageId": "plaintext"
    }
   },
   "outputs": [],
   "source": [
    "import os\n",
    "import pandas as pd\n",
    "from collections import Counter\n",
    "\n",
    "directory = \"your_csv_directory\"\n",
    "csv_files = [f for f in os.listdir(directory) if f.endswith(\".csv\")]\n",
    "\n",
    "all_columns = []\n",
    "for file in csv_files:\n",
    "    file_path = os.path.join(directory, file)\n",
    "    df = pd.read_csv(file_path, nrows=0)  # 列名だけ取得\n",
    "    all_columns.extend(df.columns.tolist())\n",
    "\n",
    "# 頻度を数える\n",
    "counter = Counter(all_columns)\n",
    "\n",
    "# よく出てくる列名を候補にする\n",
    "print(\"=== 標準列名候補 ===\")\n",
    "for col, freq in counter.most_common(20):\n",
    "    print(f\"{col} : {freq} 回\")\n"
   ]
  }
 ],
 "metadata": {
  "language_info": {
   "name": "python"
  }
 },
 "nbformat": 4,
 "nbformat_minor": 5
}
